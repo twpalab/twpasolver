{
 "cells": [
  {
   "cell_type": "markdown",
   "metadata": {},
   "source": [
    "# Advanced Coupled Mode Equations models\n",
    "\n",
    "This tutorial demonstrates how to use the more advanced CMEs models to simulate the nonlinear response of a TWPA.\n",
    "\n",
    "## Initialize TWPAnalysis\n",
    "\n",
    "First, let's load a KITWPA model and plot its reponse. Since we are going to consider higher order processes, we will initialize TWPAnalysis with a larger frequency span"
   ]
  },
  {
   "cell_type": "code",
   "execution_count": null,
   "metadata": {},
   "outputs": [],
   "source": [
    "import logging\n",
    "\n",
    "import matplotlib.pyplot as plt\n",
    "import numpy as np\n",
    "\n",
    "from twpasolver import TWPAnalysis\n",
    "from twpasolver.logger import log\n",
    "from twpasolver.mathutils import dBm_to_I\n",
    "\n",
    "log.setLevel(logging.WARNING)\n",
    "\n",
    "plt.rcParams[\"font.size\"] = 13.5\n",
    "plt.rcParams[\"axes.axisbelow\"] = True\n",
    "\n",
    "twpa_file = \"model_cpw_dartwars_13nm_Lk8_5.json\"\n",
    "a = TWPAnalysis(twpa=twpa_file, f_arange=(0.2, 30, 0.5e-3))\n",
    "for c in a.twpa.cells:\n",
    "    c.delta = 0e-4\n",
    "a.twpa.Z0_ref = 50\n",
    "a.update_base_data()\n",
    "optimal_pump = 7.4735\n",
    "a.data[\"optimal_pump_freq\"] = optimal_pump\n",
    "ax = a.plot_response(pump_freq=optimal_pump)\n",
    "\n",
    "# plot first and second pump harmonic\n",
    "ax[0].axvline(2 * optimal_pump, ls=\"--\", c=\"r\")\n",
    "ax[1].axvline(2 * optimal_pump, ls=\"--\", c=\"r\")\n",
    "ax[0].axvline(3 * optimal_pump, ls=\"--\", c=\"r\")\n",
    "ax[1].axvline(3 * optimal_pump, ls=\"--\", c=\"r\")\n",
    "a.twpa.model_dump()\n",
    "a.data[\"optimal_pump_freq\"]"
   ]
  },
  {
   "cell_type": "markdown",
   "metadata": {},
   "source": [
    "## ModeArrays and ModeArrayFactory\n",
    "Properly describing the nonlinear response of TWPAs requires going beyond the basic CMEs system that considers only pump, signal and idler. ```twpasolver``` is able to automatically build and solve CMEs systems including an arbitrary number of physical modes connected by relations between their frequencies. A collection of related modes is represented in a ```ModeArray``` object, which has the following notable features:\n",
    "- Organize the mode relations in a dependency graph, identifying the independent modes\n",
    "- Automatically extrapolate and propagate the physical propertie of the modes (frequency, wavenumber...) according to the relations\n",
    "- Automatically select the 3WM and 4WM terms that satisfy the Rotating Wave Approximation (RWA) when solving the CMEs\n",
    "\n",
    "The ```ModeArray``` factory helps to set up custom mode arrays or create standard extended mode collections useful to improve the accuracy of your simulations.\n",
    "\n",
    "Here is to setup a ModeArray with custom defined modes and relations"
   ]
  },
  {
   "cell_type": "code",
   "execution_count": null,
   "metadata": {},
   "outputs": [],
   "source": [
    "from twpasolver.modes_rwa import ModeArrayFactory\n",
    "\n",
    "mode_labels = [\"p\", \"s\", \"i\", \"p2\"]\n",
    "mode_relations = [[\"i\", \"p-s\"], [\"p2\", \"p+p\"]]\n",
    "mode_array_p2 = ModeArrayFactory.create_custom(\n",
    "    a.data,\n",
    "    mode_labels=mode_labels,\n",
    "    mode_directions=[1, 1, 1, 1],\n",
    "    relations=mode_relations,\n",
    ")\n",
    "mode_array_p2.plot_mode_relations(layout=\"circular\")"
   ]
  },
  {
   "cell_type": "markdown",
   "metadata": {},
   "source": [
    "For obtaining more realistic simulations, you should consider pump harmonics, frequency conversion processes and signal/idler harmonics. The ```create_extended_3wm``` method helps you to do so. Let's also add this more complete set of mode to the analysis class"
   ]
  },
  {
   "cell_type": "code",
   "execution_count": null,
   "metadata": {},
   "outputs": [],
   "source": [
    "mode_array = ModeArrayFactory.create_extended_3wm(\n",
    "    a.data, n_pump_harmonics=2, n_frequency_conversion=2, n_signal_harmonics=1\n",
    ")\n",
    "mode_array.plot_mode_relations(show_frequencies=False)\n",
    "a.add_mode_array(\"gain_extended\", mode_array)"
   ]
  },
  {
   "cell_type": "markdown",
   "metadata": {},
   "source": [
    "## Gain comparison with different models\n",
    "You can use the attributes of the ```gain``` analysis function to specify which CME model and array of modes you want to include in the simulation. Once compied, even simulations with quite a large number of modes compared to the basic CMEs system should still be quite fast"
   ]
  },
  {
   "cell_type": "code",
   "execution_count": null,
   "metadata": {},
   "outputs": [],
   "source": [
    "s_arange = np.arange(1, 6.5, 0.05)\n",
    "\n",
    "res_gain_base = a.gain(signal_freqs=s_arange, Is0=1e-6, pump=optimal_pump)\n",
    "ax = a.plot_gain()\n",
    "res_gain_extended = a.gain(\n",
    "    signal_freqs=s_arange,\n",
    "    Is0=1e-6,\n",
    "    pump=optimal_pump,\n",
    "    model=\"general_ideal\",\n",
    "    mode_array_config=\"gain_extended\",\n",
    ")\n",
    "res_gain_with_loss = a.gain(\n",
    "    signal_freqs=s_arange,\n",
    "    Is0=1e-6,\n",
    "    pump=optimal_pump,\n",
    "    model=\"general_loss_only\",\n",
    "    mode_array_config=\"gain_extended\",\n",
    ")\n",
    "\n",
    "ax.plot(s_arange, res_gain_extended[\"gain_db\"])\n",
    "ax.plot(s_arange, res_gain_with_loss[\"gain_db\"])\n",
    "ax.legend(\n",
    "    [\"basic\", \"extended, ideal\", \"extended, with loss\"], bbox_to_anchor=(1.1, 0.6)\n",
    ")"
   ]
  },
  {
   "cell_type": "markdown",
   "metadata": {},
   "source": [
    "The most realistic model takes into account both losses and reflections in the device, but it is more difficult to integrate for the ODE solver and usually takes around 10X more time to run than the other three models."
   ]
  },
  {
   "cell_type": "code",
   "execution_count": null,
   "metadata": {},
   "outputs": [],
   "source": [
    "res_gain_with_reflections_wide = a.gain(\n",
    "    signal_freqs=s_arange,\n",
    "    Is0=1e-6,\n",
    "    pump=optimal_pump,\n",
    "    model=\"general\",\n",
    "    mode_array_config=\"gain_extended\",\n",
    ")\n",
    "ax = a.plot_gain()"
   ]
  },
  {
   "cell_type": "code",
   "execution_count": null,
   "metadata": {},
   "outputs": [],
   "source": [
    "s_arange = np.arange(3, 3.5, 0.005)\n",
    "res_gain_with_reflections_narrow = a.gain(\n",
    "    signal_freqs=s_arange,\n",
    "    Is0=1e-6,\n",
    "    pump=optimal_pump,\n",
    "    model=\"general\",\n",
    "    mode_array_config=\"gain_extended\",\n",
    ")\n",
    "ax = a.plot_gain()"
   ]
  },
  {
   "cell_type": "markdown",
   "metadata": {},
   "source": [
    "Another useful feature of ```TWPAnalysis``` is the ability to plot the average currents for each mode as a function of the position along the line. This is helpful to identify which processes are most relevant to the simulated response."
   ]
  },
  {
   "cell_type": "code",
   "execution_count": null,
   "metadata": {},
   "outputs": [],
   "source": [
    "a.plot_mode_currents()"
   ]
  }
 ],
 "metadata": {
  "kernelspec": {
   "display_name": "twpaenv",
   "language": "python",
   "name": "twpaenv"
  },
  "language_info": {
   "codemirror_mode": {
    "name": "ipython",
    "version": 3
   },
   "file_extension": ".py",
   "mimetype": "text/x-python",
   "name": "python",
   "nbconvert_exporter": "python",
   "pygments_lexer": "ipython3",
   "version": "3.10.12"
  }
 },
 "nbformat": 4,
 "nbformat_minor": 2
}
