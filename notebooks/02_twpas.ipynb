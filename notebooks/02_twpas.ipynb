{
 "cells": [
  {
   "cell_type": "markdown",
   "metadata": {},
   "source": [
    "# Constructing twpas\n",
    "\n",
    "This tutorial shows how to define and customize a TWPA model. At the moment, `twpasolver` is specialized to model KI-TWPAS only, but new components modeling the reposne of Josephson Junctions can be easily implemented.\n",
    "\n",
    "### Using predefined models\n",
    "\n",
    "Let's start by defining some parameters for the cells of the device. \n",
    "We consider a simple design with step modulation between a certain number of loaded and an unloaded cells.\n",
    "We also define the circuit parameters for a mean effective TWPA without modulation, and compare the response of the devices. "
   ]
  },
  {
   "cell_type": "code",
   "execution_count": null,
   "metadata": {},
   "outputs": [],
   "source": [
    "import matplotlib.pyplot as plt\n",
    "import numpy as np\n",
    "from numba import njit\n",
    "\n",
    "from twpasolver.frequency import Frequencies\n",
    "from twpasolver.models import TWPA, LCLfBaseCell, StubBaseCell\n",
    "\n",
    "freqs = np.arange(1e9, 12e9, 2e6)\n",
    "N_u = 60\n",
    "N_l = 6\n",
    "N_sc = 1000\n",
    "N = N_sc * (N_u + N_l)\n",
    "\n",
    "# Cell capacitances, expressed in F\n",
    "C_u = 18.81e-15\n",
    "C_l = 7.0e-15\n",
    "C_eff = (N_u * C_u + N_l * C_l) / (N_u + N_l)\n",
    "\n",
    "# Cell inductances, expressed in H\n",
    "L_u = 45.2e-12\n",
    "L_l = 45.2e-12\n",
    "L_eff = (N_u * L_u + N_l * L_l) / (N_u + N_l)\n",
    "\n",
    "# Finger inductances, expressed in H\n",
    "L_f_u = 1.02e-9\n",
    "L_f_l = 0.335e-9\n",
    "L_f_eff = (N_u * L_f_u + N_l * L_f_l) / (N_u + N_l)\n",
    "\n",
    "# Characteristic inductance\n",
    "Z_0 = np.sqrt(L_u / C_u)\n",
    "Z_l = np.sqrt(L_l / C_l)\n",
    "Z_eff = np.sqrt(L_eff / C_eff)\n",
    "\n",
    "l1_u = 102e-6\n",
    "l1_l = 33.5e-6\n",
    "l2 = 2e-6"
   ]
  },
  {
   "cell_type": "markdown",
   "metadata": {},
   "source": [
    "We can now define the models for the cells and TWPAs. The `twpasolver.models.TWPA` class is derived from `twpasolver.models.TwoPortArray`, with additional arguments to represent the parameters of the nonlinear response, which will be used to find the phase-matching condition and the gain profile in the next tutorial. The `LCLfBaseCell` model determines the single cell response as detailed in Appendix B of [10.1103/PRXQuantum](https://journals.aps.org/prxquantum/abstract/10.1103/PRXQuantum.2.010302)."
   ]
  },
  {
   "cell_type": "code",
   "execution_count": null,
   "metadata": {},
   "outputs": [],
   "source": [
    "unloaded = LCLfBaseCell(C=C_u, L=L_u, Lf=L_f_u, N=N_u / 2)\n",
    "loaded = LCLfBaseCell(C=C_l, L=L_l, Lf=L_f_l, N=N_l)\n",
    "twpa = TWPA(cells=[unloaded, loaded, unloaded], N=N_sc)\n",
    "\n",
    "# Effective mean cell and unmodulated TWPA\n",
    "eff = LCLfBaseCell(C=C_eff, L=L_eff, Lf=L_f_eff, N=N_u + N_l)\n",
    "twpa_not_loaded = TWPA(cells=[eff], N=N_sc)\n",
    "\n",
    "twpa.model_dump()"
   ]
  },
  {
   "cell_type": "markdown",
   "metadata": {},
   "source": [
    "As usual, we plot the response of the devices, starting from the magnitude of $S_{21}$. The cell modulation creates a stopband."
   ]
  },
  {
   "cell_type": "code",
   "execution_count": null,
   "metadata": {},
   "outputs": [],
   "source": [
    "net = twpa.get_network(freqs)\n",
    "net_unmodulated = twpa_not_loaded.get_network(freqs)\n",
    "\n",
    "net.s21.plot_s_db(label=\"Step modulation\", lw=3)\n",
    "net_unmodulated.s21.plot_s_db(label=\"No modulation\", lw=3)\n",
    "plt.ylabel(\"$|S_{21}|$ (dB)\")\n",
    "plt.grid()"
   ]
  },
  {
   "cell_type": "markdown",
   "metadata": {},
   "source": [
    "Another important aspect of the response of a TWPA is the nonlinear dependence of the phase of $S_{21}$.  The modulation creates a resonance-like profile that restricts the phase matching condition to a controllable range."
   ]
  },
  {
   "cell_type": "code",
   "execution_count": null,
   "metadata": {},
   "outputs": [],
   "source": [
    "linear_disp = 2 * np.pi * freqs * np.sqrt(C_eff * L_eff)\n",
    "plt.plot(\n",
    "    freqs * 1e-9,\n",
    "    -net.s21.s_rad_unwrap.flatten() / N - linear_disp,\n",
    "    label=\"Step modulation\",\n",
    "    lw=3,\n",
    ")\n",
    "plt.plot(\n",
    "    freqs * 1e-9,\n",
    "    -net_unmodulated.s21.s_rad_unwrap.flatten() / N - linear_disp,\n",
    "    label=\"No modulation\",\n",
    "    lw=3,\n",
    ")\n",
    "plt.xlabel(\"Frequencies (GHz)\")\n",
    "plt.ylabel(\"$k^*$ (rad)\")\n",
    "plt.legend()\n",
    "plt.grid()"
   ]
  },
  {
   "cell_type": "markdown",
   "metadata": {},
   "source": [
    "### Constructing models from basic components\n",
    "\n",
    "It is also possible to explicitly use the composition of basic circuit elements to generate a TWPA. Here's how to repoduce the `LCLfBaseCell` model starting from inductors and capacitors."
   ]
  },
  {
   "cell_type": "code",
   "execution_count": null,
   "metadata": {},
   "outputs": [],
   "source": [
    "from twpasolver.models import Capacitance, Inductance, compose\n",
    "\n",
    "L_line_u = Inductance(L=L_u)\n",
    "fingers_u = compose(\n",
    "    Capacitance(C=C_u / 2), Inductance(L=L_f_u), N=2, twoport_parallel=True\n",
    ")\n",
    "cell_u = compose(L_line_u, fingers_u, N=N_u / 2)\n",
    "\n",
    "L_line_l = Inductance(L=L_l)\n",
    "fingers_l = compose(\n",
    "    Capacitance(C=C_l / 2), Inductance(L=L_f_l), N=2, twoport_parallel=True\n",
    ")\n",
    "cell_l = compose(L_line_l, fingers_l, N=N_l)\n",
    "\n",
    "twpa_from_basic = TWPA(cells=[cell_u, cell_l, cell_u], N=N_sc)\n",
    "\n",
    "# Plot the nonlinear phase response\n",
    "plt.plot(\n",
    "    freqs * 1e-9,\n",
    "    -net.s21.s_rad_unwrap.flatten() / N - linear_disp,\n",
    "    label=\"From LCLfBaseCell\",\n",
    "    lw=3,\n",
    ")\n",
    "plt.plot(\n",
    "    freqs * 1e-9,\n",
    "    -twpa_from_basic.get_network(freqs).s21.s_rad_unwrap.flatten() / N - linear_disp,\n",
    "    label=\"From basic components\",\n",
    "    lw=3,\n",
    "    ls=\"--\",\n",
    ")\n",
    "plt.xlabel(\"Frequencies (GHz)\")\n",
    "plt.ylabel(\"$k^*$ (rad)\")\n",
    "plt.legend()\n",
    "plt.grid()"
   ]
  }
 ],
 "metadata": {
  "kernelspec": {
   "display_name": "twpaenv",
   "language": "python",
   "name": "twpaenv"
  },
  "language_info": {
   "codemirror_mode": {
    "name": "ipython",
    "version": 3
   },
   "file_extension": ".py",
   "mimetype": "text/x-python",
   "name": "python",
   "nbconvert_exporter": "python",
   "pygments_lexer": "ipython3",
   "version": "3.10.14"
  }
 },
 "nbformat": 4,
 "nbformat_minor": 2
}
