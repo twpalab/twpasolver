{
 "cells": [
  {
   "cell_type": "markdown",
   "metadata": {},
   "source": [
    "# Network models"
   ]
  },
  {
   "cell_type": "markdown",
   "metadata": {},
   "source": [
    "These examples provides an overview of the `twpasolver` library's basic capabilities, focusing on the implementation of various circuit components and their compositions. The classes involved include `Models`, `TwoPortCell`, and `ABCDArrays`, which offer functionalities to handle one-port and two-port circuit components. The core functionalities are housed within `twpasolver.twoport` and `twpasolver.models`. \n",
    "\n",
    "### Overview\n",
    "\n",
    "`twpasolver` provides simple functionalities to handle one-port and two-port circuit components. Each component is implemented as a class that defines how its ABCD matrix is computed as a function of an input frequency array. These models, which are derived from `twpasolver.twoport.TwoPortModel`, can be found in the ```twpasolver.models``` subpackage.\n",
    "The response of the circuit element is accessed by calling one of the ```get``` methods of the model class.\n",
    "\n",
    "* `get_abcd(freq_array)` returns an instance of `twpasolver.ABCDArray`. It is a specialized subclass of `numpy.array` which is used to represent arrays of 2x2 matrices and includes efficient matrix multiplication operations. This class is the fundamental building block for constructing the response of concatenated circuit elements.\n",
    "* `get_cell(freq_array)` returns a `TwoPortCell` class, which contains an `ABCDArray`, a frequencies array, and additional functions to convert responses to S-parameters and `scikit-rf.Network` objects.\n",
    "* `get_network(freq_array)` directly returns a ```scikit-rf.Network``` with the computed response.\n",
    "\n",
    "Some other features common to all models implemented in `twpasolver` are:\n",
    "\n",
    "* Repetition of $N$ consecutive instances of the circuit through the `N` attribute.\n",
    "* Dumping and loading to/from json files and attribute validation, implemented through `pydantic`.\n",
    "\n",
    "### Example: Capacitor\n",
    "\n",
    "Let's start with a simple example of analyzing a capacitor. We will create a capacitor model, compute its response over a frequency range, and plot the S-parameters."
   ]
  },
  {
   "cell_type": "code",
   "execution_count": null,
   "metadata": {},
   "outputs": [],
   "source": [
    "import matplotlib.pyplot as plt\n",
    "import numpy as np\n",
    "\n",
    "from twpasolver.mathutils import to_dB\n",
    "from twpasolver.models import Capacitance\n",
    "\n",
    "# Define frequency range\n",
    "freqs = np.arange(1e9, 10e9, 1e6)\n",
    "\n",
    "# Create capacitor\n",
    "C_val = 1e-12  # 1 pF\n",
    "C = Capacitance(C=C_val)\n",
    "\n",
    "# Get network response and plot S11\n",
    "net = C.get_network(freqs)\n",
    "net.s11.plot_s_db(label=\"S11, from skrf.Network\", lw=3)\n",
    "\n",
    "# Get cell response and plot S11\n",
    "cell = C.get_cell(freqs)\n",
    "plt.plot(cell.freqs, to_dB(cell.s.S11), label=\"S11, from TwoPortCell\", ls=\"--\", lw=3)\n",
    "plt.ylabel(\"S11 (dB)\")\n",
    "plt.legend()\n",
    "plt.show()"
   ]
  },
  {
   "cell_type": "markdown",
   "metadata": {},
   "source": [
    "Dump the model to a json file and recover it."
   ]
  },
  {
   "cell_type": "code",
   "execution_count": null,
   "metadata": {},
   "outputs": [],
   "source": [
    "C.dump_to_file(\"Capacitor.json\")\n",
    "C_recovered = Capacitance.from_file(\"Capacitor.json\")\n",
    "print(C == C_recovered)\n",
    "C.model_dump()"
   ]
  },
  {
   "cell_type": "markdown",
   "metadata": {},
   "source": [
    "### ModelArrays\n",
    "\n",
    "`OnePortModel` and `TwoPortModel` instances can be assembled into arrays, and the overall response be retrieved automatically. This can be done wither by instancing the arrays directly or by using the `twpasolver.models.compose` function. In this way it is possible to connect multiple components in series or parallel to form more complex networks.\n",
    "The `compose` function returns either:\n",
    "\n",
    "* A ```OnePortArray``` if all the elements are ```OnePortModel```s and have the same series/parallel configuration when inserted in a two-port network, which is specified by the ```twoport_parallel``` attribute present in all ```OnePortModel``` derived classes. Since one-port elements are specified entirely by their impedance response, they are specialized to allow connecting them in parallel or in series into another one port network, which simplifies calculations and makes it possible to create more complex elements to insert into a two-port circuit. \n",
    "* A ```TwoPortArray``` otherwise. The composition of two-port circuits is based entirely on multiplying their abcd matrices.\n",
    "\n",
    "Some functionalities common to both kinds of model arrays are:\n",
    "\n",
    "* Basic list operations, such as appending and indexing/slicing.\n",
    "* Compatibility with nested arrays.\n",
    "* Correct serialization of nested structures to json.\n",
    "\n",
    "### Example: LC Resonator and resonators array\n",
    "\n",
    "Now let's create an LC resonator by combining an inductor and a capacitor, which returns a `OnePortArray`, and plotting its frequency response."
   ]
  },
  {
   "cell_type": "code",
   "execution_count": null,
   "metadata": {},
   "outputs": [],
   "source": [
    "import matplotlib.pyplot as plt\n",
    "import numpy as np\n",
    "\n",
    "from twpasolver.mathutils import to_dB\n",
    "from twpasolver.models import Capacitance, Inductance, Resistance, compose\n",
    "\n",
    "# Define frequency range\n",
    "freqs = np.arange(1e9, 10e9, 2e6)\n",
    "\n",
    "# Resonance frequency and inductance value\n",
    "f_res = 5e9\n",
    "L_val = 1e-9\n",
    "R_val = 1e-3\n",
    "\n",
    "# Create series LC resonator\n",
    "L = Inductance(L=L_val)\n",
    "C = Capacitance(C=1 / ((f_res * 2 * np.pi) ** 2 * L_val))\n",
    "R = Resistance(R=R_val)\n",
    "LCres = compose(L, C, R)\n",
    "\n",
    "net = LCres.get_network(freqs)\n",
    "net.s11.plot_s_db(lw=3)\n",
    "plt.ylabel(\"S11 (dB)\")\n",
    "plt.show()"
   ]
  },
  {
   "cell_type": "markdown",
   "metadata": {},
   "source": [
    "Finally, we create an array of LC resonators with different resonance frequencies inserted in parallel in a two-port network and observe their combined response."
   ]
  },
  {
   "cell_type": "code",
   "execution_count": null,
   "metadata": {},
   "outputs": [],
   "source": [
    "from twpasolver.models import TwoPortArray\n",
    "\n",
    "# Create array of LC resonators with different resonance frequencies\n",
    "LCarray = TwoPortArray()\n",
    "for f_res in np.linspace(2e9, 8e9, 3):\n",
    "    C = Capacitance(C=1 / ((f_res * 2 * np.pi) ** 2 * L_val))\n",
    "    LC = compose(L, C, R)\n",
    "    LC.twoport_parallel = True\n",
    "    LCarray.append(LC)\n",
    "\n",
    "# Get network response and plot S21\n",
    "net = LCarray.get_network(freqs)\n",
    "net.s21.plot_s_db(lw=3, label=\"S21\")\n",
    "plt.ylabel(\"S21 (dB)\")\n",
    "plt.show()"
   ]
  }
 ],
 "metadata": {
  "kernelspec": {
   "display_name": "twpaenv",
   "language": "python",
   "name": "twpaenv"
  },
  "language_info": {
   "codemirror_mode": {
    "name": "ipython",
    "version": 3
   },
   "file_extension": ".py",
   "mimetype": "text/x-python",
   "name": "python",
   "nbconvert_exporter": "python",
   "pygments_lexer": "ipython3",
   "version": "3.10.14"
  }
 },
 "nbformat": 4,
 "nbformat_minor": 2
}
